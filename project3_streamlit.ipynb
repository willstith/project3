{
 "cells": [
  {
   "cell_type": "code",
   "execution_count": 1,
   "metadata": {},
   "outputs": [],
   "source": [
    "import streamlit as st\n",
    "import pandas as pd\n",
    "import numpy as np\n",
    "from PIL import Image\n",
    "from sklearn.linear_model import LinearRegression\n",
    "from sklearn.metrics import mean_squared_error, r2_score\n",
    "from sklearn.model_selection import train_test_split, StratifiedKFold\n",
    "from sklearn.linear_model import LogisticRegression\n",
    "from sklearn.ensemble import RandomForestClassifier\n",
    "from sklearn.tree import DecisionTreeClassifier\n",
    "from sklearn.neighbors import KNeighborsClassifier\n",
    "from sklearn.naive_bayes import GaussianNB\n",
    "from sklearn.preprocessing import StandardScaler\n",
    "import imblearn.over_sampling\n",
    "from sklearn.svm import SVC\n",
    "import time\n",
    "from sklearn.metrics import precision_score,recall_score,precision_recall_curve,f1_score,fbeta_score,roc_auc_score\n",
    "import pickle"
   ]
  },
  {
   "cell_type": "code",
   "execution_count": null,
   "metadata": {},
   "outputs": [],
   "source": [
    "#import the data\n",
    "#with open('wine_df_from_sql.p','rb') as read_file:\n",
    "#    data = pickle.load(read_file)\n",
    "image = Image.open(\"wine_bottles.png\")\n",
    "st.title(\"Is Your Fine Wine or Not?\")\n",
    "st.image(image, use_column_width=True)"
   ]
  },
  {
   "cell_type": "code",
   "execution_count": null,
   "metadata": {},
   "outputs": [],
   "source": [
    "#checking the data\n",
    "st.write(\"This application will try to predict whether your wine is fine or not. Give it a try!\")\n",
    "check_data = st.checkbox(\"See the simple data\")\n",
    "if check_data:\n",
    "    st.write(data.head())\n",
    "st.write(\"Now enter in your wine's physicochemical traits.\")"
   ]
  },
  {
   "cell_type": "code",
   "execution_count": null,
   "metadata": {},
   "outputs": [],
   "source": [
    "#input the numbers\n",
    "fixed_acidity = st.slider(\"Fixed acidity\",float(data.fixed_acidity.min()),float(data.fixed_acidity.max()),float(data.fixed_acidity.mean()) )\n",
    "volatile_acidity = st.slider(\"Volatile acidity\",float(data.volatile_acidity.min()),float(data.volatile_acidity.max()),float(data.volatile_acidity.mean()) )\n",
    "citric_acid = st.slider(\"Citric Acid\",float(data.citric_acid.min()),float(data.citric_acid.max()),float(data.citric_acid.mean()) )\n",
    "residual_sugar = st.slider(\"Residual Sugar\",float(data.residual_sugar.min()),float(data.residual_sugar.max()),float(data.residual_sugar.mean()) )\n",
    "chlorides = st.slider(\"Chlorides\",float(data.chlorides.min()),float(data.chlorides.max()),float(data.chlorides.mean()) )\n",
    "free_so2 = st.slider(\"Free sulfur dioxide\",float(data.free_so2.min()),float(data.free_so2.max()),float(data.free_so2.mean()) )\n",
    "unfree_so2 = st.slider(\"Unfree sulfur dioxide (total - free)\",float(data.unfree_so2.min()),float(data.unfree_so2.max()),float(data.unfree_so2.mean()) )\n",
    "density = st.slider(\"Density\",float(data.density.min()),float(data.density.max()),float(data.density.mean()) )\n",
    "ph = st.slider(\"pH\",float(data.ph.min()),float(data.ph.max()),float(data.ph.mean()) )\n",
    "sulphates = st.slider(\"Sulphates\",float(data.sulphates.min()),float(data.sulphates.max()),float(data.sulphates.mean()) )\n",
    "alcohol = st.slider(\"Alcohol by volume\",float(data.alcohol.min()),float(data.alcohol.max()),float(data.alcohol.mean()) )\n",
    "variety = st.slider(\"Red (0) or white (1)\",float(data.variety.min()),float(data.variety.max()),float(data.variety.mean()) )"
   ]
  },
  {
   "cell_type": "code",
   "execution_count": null,
   "metadata": {},
   "outputs": [],
   "source": [
    "#splitting your data\n",
    "X_cols = ['fixed_acidity','volatile_acidity','citric_acid','residual_sugar',\n",
    "       'chlorides','free_so2','density','ph','sulphates',\n",
    "       'alcohol','variety','unfree_so2']\n",
    "X = df_wines[X_cols]\n",
    "y = df_wines['goodbad']\n",
    "X_train, X_test, y_train, y_test = train_test_split(X,y,test_size=.2, random_state=23)"
   ]
  },
  {
   "cell_type": "code",
   "execution_count": null,
   "metadata": {},
   "outputs": [],
   "source": [
    "#modelling step\n",
    "#import model\n",
    "# setup for the ratio argument of RandomOverSampler initialization\n",
    "n_pos = np.sum(y_train == 1)\n",
    "n_neg = np.sum(y_train == 0)\n",
    "ratio = {1 : n_pos * 4, 0 : n_neg}\n",
    "\n",
    "smote = imblearn.over_sampling.SMOTE(sampling_strategy=ratio, random_state = 23)\n",
    "X_tr_smote, y_tr_smote = smote.fit_sample(X_train, y_train)\n",
    "\n",
    "rf_smote = rf_model\n",
    "rf_smote.fit(X_tr_smote, y_tr_smote)\n",
    "rf_smote.predict(X_test)\n",
    "predictions = model.predict([[fixed_acidity,volatile_acidity,citric_acid,residual_sugar,chlorides,free_so2,\n",
    "                             unfree_so2,density,ph,sulphates,alcohol,variety]])[0]"
   ]
  },
  {
   "cell_type": "code",
   "execution_count": null,
   "metadata": {},
   "outputs": [],
   "source": [
    "#modelling step\n",
    "#import your model\n",
    "model=LinearRegression()\n",
    "#fitting and predict your model\n",
    "model.fit(X_train, y_train)\n",
    "model.predict(X_test)"
   ]
  },
  {
   "cell_type": "code",
   "execution_count": null,
   "metadata": {},
   "outputs": [],
   "source": [
    "fine_or_not = 'is fine!'\n",
    "if int(predictions) = 1:\n",
    "    fine_or_not = \"doesn't make the cut.\""
   ]
  },
  {
   "cell_type": "code",
   "execution_count": null,
   "metadata": {},
   "outputs": [],
   "source": [
    "#checking prediction house price\n",
    "if st.button(\"Assess me!\"):\n",
    "    fine_or_not = 'is fine!'\n",
    "    if int(predictions) = 1:\n",
    "        fine_or_not = \"doesn't make the cut.\"\n",
    "    st.header(\"This wine {}\".format(fine_or_not))\n",
    "#    st.subheader(\"Your range of prediction is USD {} - USD {}\".format(int(predictions-errors),int(predictions+errors) ))"
   ]
  }
 ],
 "metadata": {
  "kernelspec": {
   "display_name": "Python [conda env:metis] *",
   "language": "python",
   "name": "conda-env-metis-py"
  },
  "language_info": {
   "codemirror_mode": {
    "name": "ipython",
    "version": 3
   },
   "file_extension": ".py",
   "mimetype": "text/x-python",
   "name": "python",
   "nbconvert_exporter": "python",
   "pygments_lexer": "ipython3",
   "version": "3.8.3"
  },
  "toc": {
   "base_numbering": 1,
   "nav_menu": {},
   "number_sections": true,
   "sideBar": true,
   "skip_h1_title": false,
   "title_cell": "Table of Contents",
   "title_sidebar": "Contents",
   "toc_cell": false,
   "toc_position": {},
   "toc_section_display": true,
   "toc_window_display": false
  },
  "varInspector": {
   "cols": {
    "lenName": 16,
    "lenType": 16,
    "lenVar": 40
   },
   "kernels_config": {
    "python": {
     "delete_cmd_postfix": "",
     "delete_cmd_prefix": "del ",
     "library": "var_list.py",
     "varRefreshCmd": "print(var_dic_list())"
    },
    "r": {
     "delete_cmd_postfix": ") ",
     "delete_cmd_prefix": "rm(",
     "library": "var_list.r",
     "varRefreshCmd": "cat(var_dic_list()) "
    }
   },
   "types_to_exclude": [
    "module",
    "function",
    "builtin_function_or_method",
    "instance",
    "_Feature"
   ],
   "window_display": false
  }
 },
 "nbformat": 4,
 "nbformat_minor": 4
}
